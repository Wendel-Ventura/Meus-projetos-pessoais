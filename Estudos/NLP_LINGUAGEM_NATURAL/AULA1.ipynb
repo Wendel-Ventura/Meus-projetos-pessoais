{
 "cells": [
  {
   "cell_type": "code",
   "execution_count": 2,
   "id": "3ceeb820",
   "metadata": {},
   "outputs": [],
   "source": [
    "import pandas as pd"
   ]
  },
  {
   "cell_type": "code",
   "execution_count": 3,
   "id": "a133b5ee",
   "metadata": {},
   "outputs": [],
   "source": [
    "df = pd.read_csv('https://raw.githubusercontent.com/alura-cursos/nlp_analise_sentimento/refs/heads/main/Dados/dataset_avaliacoes.csv')"
   ]
  },
  {
   "cell_type": "code",
   "execution_count": 4,
   "id": "73168b80",
   "metadata": {},
   "outputs": [
    {
     "data": {
      "text/html": [
       "<div>\n",
       "<style scoped>\n",
       "    .dataframe tbody tr th:only-of-type {\n",
       "        vertical-align: middle;\n",
       "    }\n",
       "\n",
       "    .dataframe tbody tr th {\n",
       "        vertical-align: top;\n",
       "    }\n",
       "\n",
       "    .dataframe thead th {\n",
       "        text-align: right;\n",
       "    }\n",
       "</style>\n",
       "<table border=\"1\" class=\"dataframe\">\n",
       "  <thead>\n",
       "    <tr style=\"text-align: right;\">\n",
       "      <th></th>\n",
       "      <th>ID_avaliacao</th>\n",
       "      <th>avaliacao</th>\n",
       "      <th>nota</th>\n",
       "      <th>sentimento</th>\n",
       "    </tr>\n",
       "  </thead>\n",
       "  <tbody>\n",
       "    <tr>\n",
       "      <th>0</th>\n",
       "      <td>81841</td>\n",
       "      <td>Esse smartphone superou minhas expectativas, r...</td>\n",
       "      <td>5</td>\n",
       "      <td>positivo</td>\n",
       "    </tr>\n",
       "    <tr>\n",
       "      <th>1</th>\n",
       "      <td>28031</td>\n",
       "      <td>o cheiro e muito desagradavel!! pra quem se in...</td>\n",
       "      <td>2</td>\n",
       "      <td>negativo</td>\n",
       "    </tr>\n",
       "    <tr>\n",
       "      <th>2</th>\n",
       "      <td>91332</td>\n",
       "      <td>Eu fiz a compra a loja não entregou o produto,...</td>\n",
       "      <td>1</td>\n",
       "      <td>negativo</td>\n",
       "    </tr>\n",
       "    <tr>\n",
       "      <th>3</th>\n",
       "      <td>110045</td>\n",
       "      <td>Atendeu minhas expectativas, só achei a luz ru...</td>\n",
       "      <td>4</td>\n",
       "      <td>positivo</td>\n",
       "    </tr>\n",
       "    <tr>\n",
       "      <th>4</th>\n",
       "      <td>36929</td>\n",
       "      <td>Gostei muito, só achei que ficou a desejar a q...</td>\n",
       "      <td>5</td>\n",
       "      <td>positivo</td>\n",
       "    </tr>\n",
       "  </tbody>\n",
       "</table>\n",
       "</div>"
      ],
      "text/plain": [
       "   ID_avaliacao                                          avaliacao  nota  \\\n",
       "0         81841  Esse smartphone superou minhas expectativas, r...     5   \n",
       "1         28031  o cheiro e muito desagradavel!! pra quem se in...     2   \n",
       "2         91332  Eu fiz a compra a loja não entregou o produto,...     1   \n",
       "3        110045  Atendeu minhas expectativas, só achei a luz ru...     4   \n",
       "4         36929  Gostei muito, só achei que ficou a desejar a q...     5   \n",
       "\n",
       "  sentimento  \n",
       "0   positivo  \n",
       "1   negativo  \n",
       "2   negativo  \n",
       "3   positivo  \n",
       "4   positivo  "
      ]
     },
     "execution_count": 4,
     "metadata": {},
     "output_type": "execute_result"
    }
   ],
   "source": [
    "df.head()"
   ]
  },
  {
   "cell_type": "code",
   "execution_count": 5,
   "id": "1648d533",
   "metadata": {},
   "outputs": [
    {
     "data": {
      "text/plain": [
       "(15501, 4)"
      ]
     },
     "execution_count": 5,
     "metadata": {},
     "output_type": "execute_result"
    }
   ],
   "source": [
    "df.shape"
   ]
  },
  {
   "cell_type": "code",
   "execution_count": 6,
   "id": "3f15a1a6",
   "metadata": {},
   "outputs": [
    {
     "data": {
      "text/plain": [
       "<bound method DataFrame.info of        ID_avaliacao                                          avaliacao  nota  \\\n",
       "0             81841  Esse smartphone superou minhas expectativas, r...     5   \n",
       "1             28031  o cheiro e muito desagradavel!! pra quem se in...     2   \n",
       "2             91332  Eu fiz a compra a loja não entregou o produto,...     1   \n",
       "3            110045  Atendeu minhas expectativas, só achei a luz ru...     4   \n",
       "4             36929  Gostei muito, só achei que ficou a desejar a q...     5   \n",
       "...             ...                                                ...   ...   \n",
       "15496         61836  Bommm.mmmmmmmmmmmmmmmm Mmmmmmmmmmmmmmmmmmmmmmm...     4   \n",
       "15497         19503  O produto seca o cabelo, mas tem que passar di...     2   \n",
       "15498         52712  Muito simples de mexer, o manual explica direi...     5   \n",
       "15499         10874  Produto muito bom, exatamente como na internet...     4   \n",
       "15500        107286  É incrível como voce é abandonado dentro de su...     5   \n",
       "\n",
       "      sentimento  \n",
       "0       positivo  \n",
       "1       negativo  \n",
       "2       negativo  \n",
       "3       positivo  \n",
       "4       positivo  \n",
       "...          ...  \n",
       "15496   positivo  \n",
       "15497   negativo  \n",
       "15498   positivo  \n",
       "15499   positivo  \n",
       "15500   positivo  \n",
       "\n",
       "[15501 rows x 4 columns]>"
      ]
     },
     "execution_count": 6,
     "metadata": {},
     "output_type": "execute_result"
    }
   ],
   "source": [
    "df.info"
   ]
  },
  {
   "cell_type": "code",
   "execution_count": 7,
   "id": "ff7a4dbd",
   "metadata": {},
   "outputs": [
    {
     "data": {
      "text/plain": [
       "sentimento\n",
       "positivo    7890\n",
       "negativo    7611\n",
       "Name: count, dtype: int64"
      ]
     },
     "execution_count": 7,
     "metadata": {},
     "output_type": "execute_result"
    }
   ],
   "source": [
    "df.value_counts('sentimento')"
   ]
  },
  {
   "cell_type": "code",
   "execution_count": null,
   "id": "ff6502c6",
   "metadata": {},
   "outputs": [
    {
     "name": "stdout",
     "output_type": "stream",
     "text": [
      "Positiva \n",
      "\n"
     ]
    },
    {
     "data": {
      "text/plain": [
       "'Esse smartphone superou minhas expectativas, recomendo'"
      ]
     },
     "execution_count": 8,
     "metadata": {},
     "output_type": "execute_result"
    }
   ],
   "source": [
    "print('Positiva \\n')\n",
    "df.avaliacao[0]"
   ]
  },
  {
   "cell_type": "code",
   "execution_count": 10,
   "id": "4d22e5d9",
   "metadata": {},
   "outputs": [
    {
     "name": "stdout",
     "output_type": "stream",
     "text": [
      "Negativo \n",
      "\n"
     ]
    },
    {
     "data": {
      "text/plain": [
       "'Eu fiz a compra a loja não entregou o produto, a compra foi feita no cartão de credito e ate o momento a loja também nao me devolveu o valor da compra.'"
      ]
     },
     "execution_count": 10,
     "metadata": {},
     "output_type": "execute_result"
    }
   ],
   "source": [
    "print('Negativo \\n')\n",
    "df.avaliacao[2]"
   ]
  },
  {
   "cell_type": "code",
   "execution_count": 13,
   "id": "0b981420",
   "metadata": {},
   "outputs": [],
   "source": [
    "from sklearn.feature_extraction.text import CountVectorizer\n",
    "\n",
    "texto = ['Comprei um produto ótimo', 'Comprei um produto ruim']\n",
    "\n",
    "\n",
    "vetorizar = CountVectorizer()\n",
    "\n",
    "\n",
    "bag_of_words = vetorizar.fit_transform(texto)"
   ]
  },
  {
   "cell_type": "code",
   "execution_count": 14,
   "id": "250b3493",
   "metadata": {},
   "outputs": [
    {
     "data": {
      "text/plain": [
       "<2x5 sparse matrix of type '<class 'numpy.int64'>'\n",
       "\twith 8 stored elements in Compressed Sparse Row format>"
      ]
     },
     "execution_count": 14,
     "metadata": {},
     "output_type": "execute_result"
    }
   ],
   "source": [
    "bag_of_words"
   ]
  },
  {
   "cell_type": "code",
   "execution_count": 15,
   "id": "30179c29",
   "metadata": {},
   "outputs": [],
   "source": [
    "matriz_esparsa = pd.DataFrame.sparse.from_spmatrix(bag_of_words, columns=vetorizar.get_feature_names_out())"
   ]
  },
  {
   "cell_type": "code",
   "execution_count": 16,
   "id": "3ea47e68",
   "metadata": {},
   "outputs": [
    {
     "data": {
      "text/html": [
       "<div>\n",
       "<style scoped>\n",
       "    .dataframe tbody tr th:only-of-type {\n",
       "        vertical-align: middle;\n",
       "    }\n",
       "\n",
       "    .dataframe tbody tr th {\n",
       "        vertical-align: top;\n",
       "    }\n",
       "\n",
       "    .dataframe thead th {\n",
       "        text-align: right;\n",
       "    }\n",
       "</style>\n",
       "<table border=\"1\" class=\"dataframe\">\n",
       "  <thead>\n",
       "    <tr style=\"text-align: right;\">\n",
       "      <th></th>\n",
       "      <th>comprei</th>\n",
       "      <th>produto</th>\n",
       "      <th>ruim</th>\n",
       "      <th>um</th>\n",
       "      <th>ótimo</th>\n",
       "    </tr>\n",
       "  </thead>\n",
       "  <tbody>\n",
       "    <tr>\n",
       "      <th>0</th>\n",
       "      <td>1</td>\n",
       "      <td>1</td>\n",
       "      <td>0</td>\n",
       "      <td>1</td>\n",
       "      <td>1</td>\n",
       "    </tr>\n",
       "    <tr>\n",
       "      <th>1</th>\n",
       "      <td>1</td>\n",
       "      <td>1</td>\n",
       "      <td>1</td>\n",
       "      <td>1</td>\n",
       "      <td>0</td>\n",
       "    </tr>\n",
       "  </tbody>\n",
       "</table>\n",
       "</div>"
      ],
      "text/plain": [
       "   comprei  produto  ruim  um  ótimo\n",
       "0        1        1     0   1      1\n",
       "1        1        1     1   1      0"
      ]
     },
     "execution_count": 16,
     "metadata": {},
     "output_type": "execute_result"
    }
   ],
   "source": [
    "matriz_esparsa"
   ]
  },
  {
   "cell_type": "code",
   "execution_count": 17,
   "id": "7d7a9886",
   "metadata": {},
   "outputs": [
    {
     "name": "stdout",
     "output_type": "stream",
     "text": [
      "(15501, 23352)\n"
     ]
    }
   ],
   "source": [
    "vetorizar = CountVectorizer(lowercase=False)\n",
    "bag_of_words = vetorizar.fit_transform(df.avaliacao)\n",
    "print(bag_of_words.shape)"
   ]
  },
  {
   "cell_type": "code",
   "execution_count": 18,
   "id": "c62fb530",
   "metadata": {},
   "outputs": [
    {
     "name": "stdout",
     "output_type": "stream",
     "text": [
      "(15501, 50)\n"
     ]
    }
   ],
   "source": [
    "vetorizar = CountVectorizer(lowercase=False, max_features=50)\n",
    "bag_of_words = vetorizar.fit_transform(df.avaliacao)\n",
    "print(bag_of_words.shape)"
   ]
  },
  {
   "cell_type": "code",
   "execution_count": 20,
   "id": "3fb3e573",
   "metadata": {},
   "outputs": [
    {
     "data": {
      "text/html": [
       "<div>\n",
       "<style scoped>\n",
       "    .dataframe tbody tr th:only-of-type {\n",
       "        vertical-align: middle;\n",
       "    }\n",
       "\n",
       "    .dataframe tbody tr th {\n",
       "        vertical-align: top;\n",
       "    }\n",
       "\n",
       "    .dataframe thead th {\n",
       "        text-align: right;\n",
       "    }\n",
       "</style>\n",
       "<table border=\"1\" class=\"dataframe\">\n",
       "  <thead>\n",
       "    <tr style=\"text-align: right;\">\n",
       "      <th></th>\n",
       "      <th>Não</th>\n",
       "      <th>Produto</th>\n",
       "      <th>ainda</th>\n",
       "      <th>antes</th>\n",
       "      <th>as</th>\n",
       "      <th>até</th>\n",
       "      <th>bem</th>\n",
       "      <th>bom</th>\n",
       "      <th>chegou</th>\n",
       "      <th>com</th>\n",
       "      <th>...</th>\n",
       "      <th>qualidade</th>\n",
       "      <th>que</th>\n",
       "      <th>recebi</th>\n",
       "      <th>recomendo</th>\n",
       "      <th>se</th>\n",
       "      <th>sem</th>\n",
       "      <th>tem</th>\n",
       "      <th>um</th>\n",
       "      <th>uma</th>\n",
       "      <th>veio</th>\n",
       "    </tr>\n",
       "  </thead>\n",
       "  <tbody>\n",
       "    <tr>\n",
       "      <th>0</th>\n",
       "      <td>0</td>\n",
       "      <td>0</td>\n",
       "      <td>0</td>\n",
       "      <td>0</td>\n",
       "      <td>0</td>\n",
       "      <td>0</td>\n",
       "      <td>0</td>\n",
       "      <td>0</td>\n",
       "      <td>0</td>\n",
       "      <td>0</td>\n",
       "      <td>...</td>\n",
       "      <td>0</td>\n",
       "      <td>0</td>\n",
       "      <td>0</td>\n",
       "      <td>1</td>\n",
       "      <td>0</td>\n",
       "      <td>0</td>\n",
       "      <td>0</td>\n",
       "      <td>0</td>\n",
       "      <td>0</td>\n",
       "      <td>0</td>\n",
       "    </tr>\n",
       "    <tr>\n",
       "      <th>1</th>\n",
       "      <td>0</td>\n",
       "      <td>0</td>\n",
       "      <td>0</td>\n",
       "      <td>0</td>\n",
       "      <td>0</td>\n",
       "      <td>0</td>\n",
       "      <td>0</td>\n",
       "      <td>0</td>\n",
       "      <td>0</td>\n",
       "      <td>0</td>\n",
       "      <td>...</td>\n",
       "      <td>0</td>\n",
       "      <td>0</td>\n",
       "      <td>0</td>\n",
       "      <td>0</td>\n",
       "      <td>1</td>\n",
       "      <td>0</td>\n",
       "      <td>0</td>\n",
       "      <td>0</td>\n",
       "      <td>0</td>\n",
       "      <td>0</td>\n",
       "    </tr>\n",
       "    <tr>\n",
       "      <th>2</th>\n",
       "      <td>0</td>\n",
       "      <td>0</td>\n",
       "      <td>0</td>\n",
       "      <td>0</td>\n",
       "      <td>0</td>\n",
       "      <td>0</td>\n",
       "      <td>0</td>\n",
       "      <td>0</td>\n",
       "      <td>0</td>\n",
       "      <td>0</td>\n",
       "      <td>...</td>\n",
       "      <td>0</td>\n",
       "      <td>0</td>\n",
       "      <td>0</td>\n",
       "      <td>0</td>\n",
       "      <td>0</td>\n",
       "      <td>0</td>\n",
       "      <td>0</td>\n",
       "      <td>0</td>\n",
       "      <td>0</td>\n",
       "      <td>0</td>\n",
       "    </tr>\n",
       "    <tr>\n",
       "      <th>3</th>\n",
       "      <td>0</td>\n",
       "      <td>0</td>\n",
       "      <td>0</td>\n",
       "      <td>0</td>\n",
       "      <td>0</td>\n",
       "      <td>0</td>\n",
       "      <td>0</td>\n",
       "      <td>0</td>\n",
       "      <td>0</td>\n",
       "      <td>0</td>\n",
       "      <td>...</td>\n",
       "      <td>0</td>\n",
       "      <td>1</td>\n",
       "      <td>0</td>\n",
       "      <td>0</td>\n",
       "      <td>0</td>\n",
       "      <td>0</td>\n",
       "      <td>0</td>\n",
       "      <td>0</td>\n",
       "      <td>0</td>\n",
       "      <td>0</td>\n",
       "    </tr>\n",
       "    <tr>\n",
       "      <th>4</th>\n",
       "      <td>0</td>\n",
       "      <td>0</td>\n",
       "      <td>0</td>\n",
       "      <td>0</td>\n",
       "      <td>0</td>\n",
       "      <td>0</td>\n",
       "      <td>1</td>\n",
       "      <td>0</td>\n",
       "      <td>0</td>\n",
       "      <td>0</td>\n",
       "      <td>...</td>\n",
       "      <td>1</td>\n",
       "      <td>2</td>\n",
       "      <td>0</td>\n",
       "      <td>0</td>\n",
       "      <td>0</td>\n",
       "      <td>0</td>\n",
       "      <td>0</td>\n",
       "      <td>0</td>\n",
       "      <td>0</td>\n",
       "      <td>0</td>\n",
       "    </tr>\n",
       "    <tr>\n",
       "      <th>...</th>\n",
       "      <td>...</td>\n",
       "      <td>...</td>\n",
       "      <td>...</td>\n",
       "      <td>...</td>\n",
       "      <td>...</td>\n",
       "      <td>...</td>\n",
       "      <td>...</td>\n",
       "      <td>...</td>\n",
       "      <td>...</td>\n",
       "      <td>...</td>\n",
       "      <td>...</td>\n",
       "      <td>...</td>\n",
       "      <td>...</td>\n",
       "      <td>...</td>\n",
       "      <td>...</td>\n",
       "      <td>...</td>\n",
       "      <td>...</td>\n",
       "      <td>...</td>\n",
       "      <td>...</td>\n",
       "      <td>...</td>\n",
       "      <td>...</td>\n",
       "    </tr>\n",
       "    <tr>\n",
       "      <th>15496</th>\n",
       "      <td>0</td>\n",
       "      <td>0</td>\n",
       "      <td>0</td>\n",
       "      <td>0</td>\n",
       "      <td>0</td>\n",
       "      <td>0</td>\n",
       "      <td>0</td>\n",
       "      <td>0</td>\n",
       "      <td>0</td>\n",
       "      <td>0</td>\n",
       "      <td>...</td>\n",
       "      <td>0</td>\n",
       "      <td>0</td>\n",
       "      <td>0</td>\n",
       "      <td>1</td>\n",
       "      <td>0</td>\n",
       "      <td>0</td>\n",
       "      <td>0</td>\n",
       "      <td>0</td>\n",
       "      <td>0</td>\n",
       "      <td>0</td>\n",
       "    </tr>\n",
       "    <tr>\n",
       "      <th>15497</th>\n",
       "      <td>0</td>\n",
       "      <td>0</td>\n",
       "      <td>0</td>\n",
       "      <td>0</td>\n",
       "      <td>0</td>\n",
       "      <td>0</td>\n",
       "      <td>0</td>\n",
       "      <td>0</td>\n",
       "      <td>0</td>\n",
       "      <td>0</td>\n",
       "      <td>...</td>\n",
       "      <td>0</td>\n",
       "      <td>1</td>\n",
       "      <td>0</td>\n",
       "      <td>0</td>\n",
       "      <td>0</td>\n",
       "      <td>0</td>\n",
       "      <td>1</td>\n",
       "      <td>0</td>\n",
       "      <td>0</td>\n",
       "      <td>0</td>\n",
       "    </tr>\n",
       "    <tr>\n",
       "      <th>15498</th>\n",
       "      <td>0</td>\n",
       "      <td>0</td>\n",
       "      <td>0</td>\n",
       "      <td>0</td>\n",
       "      <td>0</td>\n",
       "      <td>0</td>\n",
       "      <td>0</td>\n",
       "      <td>0</td>\n",
       "      <td>0</td>\n",
       "      <td>0</td>\n",
       "      <td>...</td>\n",
       "      <td>0</td>\n",
       "      <td>0</td>\n",
       "      <td>0</td>\n",
       "      <td>0</td>\n",
       "      <td>0</td>\n",
       "      <td>0</td>\n",
       "      <td>0</td>\n",
       "      <td>1</td>\n",
       "      <td>0</td>\n",
       "      <td>0</td>\n",
       "    </tr>\n",
       "    <tr>\n",
       "      <th>15499</th>\n",
       "      <td>0</td>\n",
       "      <td>1</td>\n",
       "      <td>0</td>\n",
       "      <td>1</td>\n",
       "      <td>0</td>\n",
       "      <td>0</td>\n",
       "      <td>0</td>\n",
       "      <td>1</td>\n",
       "      <td>1</td>\n",
       "      <td>0</td>\n",
       "      <td>...</td>\n",
       "      <td>0</td>\n",
       "      <td>0</td>\n",
       "      <td>0</td>\n",
       "      <td>0</td>\n",
       "      <td>0</td>\n",
       "      <td>0</td>\n",
       "      <td>0</td>\n",
       "      <td>0</td>\n",
       "      <td>0</td>\n",
       "      <td>0</td>\n",
       "    </tr>\n",
       "    <tr>\n",
       "      <th>15500</th>\n",
       "      <td>0</td>\n",
       "      <td>0</td>\n",
       "      <td>0</td>\n",
       "      <td>0</td>\n",
       "      <td>0</td>\n",
       "      <td>0</td>\n",
       "      <td>0</td>\n",
       "      <td>0</td>\n",
       "      <td>0</td>\n",
       "      <td>0</td>\n",
       "      <td>...</td>\n",
       "      <td>0</td>\n",
       "      <td>0</td>\n",
       "      <td>0</td>\n",
       "      <td>0</td>\n",
       "      <td>0</td>\n",
       "      <td>0</td>\n",
       "      <td>0</td>\n",
       "      <td>0</td>\n",
       "      <td>0</td>\n",
       "      <td>0</td>\n",
       "    </tr>\n",
       "  </tbody>\n",
       "</table>\n",
       "<p>15501 rows × 50 columns</p>\n",
       "</div>"
      ],
      "text/plain": [
       "       Não  Produto  ainda  antes  as  até  bem  bom  chegou  com  ...  \\\n",
       "0        0        0      0      0   0    0    0    0       0    0  ...   \n",
       "1        0        0      0      0   0    0    0    0       0    0  ...   \n",
       "2        0        0      0      0   0    0    0    0       0    0  ...   \n",
       "3        0        0      0      0   0    0    0    0       0    0  ...   \n",
       "4        0        0      0      0   0    0    1    0       0    0  ...   \n",
       "...    ...      ...    ...    ...  ..  ...  ...  ...     ...  ...  ...   \n",
       "15496    0        0      0      0   0    0    0    0       0    0  ...   \n",
       "15497    0        0      0      0   0    0    0    0       0    0  ...   \n",
       "15498    0        0      0      0   0    0    0    0       0    0  ...   \n",
       "15499    0        1      0      1   0    0    0    1       1    0  ...   \n",
       "15500    0        0      0      0   0    0    0    0       0    0  ...   \n",
       "\n",
       "       qualidade  que  recebi  recomendo  se  sem  tem  um  uma  veio  \n",
       "0              0    0       0          1   0    0    0   0    0     0  \n",
       "1              0    0       0          0   1    0    0   0    0     0  \n",
       "2              0    0       0          0   0    0    0   0    0     0  \n",
       "3              0    1       0          0   0    0    0   0    0     0  \n",
       "4              1    2       0          0   0    0    0   0    0     0  \n",
       "...          ...  ...     ...        ...  ..  ...  ...  ..  ...   ...  \n",
       "15496          0    0       0          1   0    0    0   0    0     0  \n",
       "15497          0    1       0          0   0    0    1   0    0     0  \n",
       "15498          0    0       0          0   0    0    0   1    0     0  \n",
       "15499          0    0       0          0   0    0    0   0    0     0  \n",
       "15500          0    0       0          0   0    0    0   0    0     0  \n",
       "\n",
       "[15501 rows x 50 columns]"
      ]
     },
     "execution_count": 20,
     "metadata": {},
     "output_type": "execute_result"
    }
   ],
   "source": [
    "matriz_esparsa_avaliacoes = pd.DataFrame.sparse.from_spmatrix(bag_of_words,columns=vetorizar.get_feature_names_out())\n",
    "matriz_esparsa_avaliacoes"
   ]
  },
  {
   "cell_type": "code",
   "execution_count": 23,
   "id": "15fb4d68",
   "metadata": {},
   "outputs": [],
   "source": [
    "from sklearn.model_selection import train_test_split\n",
    "\n",
    "x_treino,x_test, y_treino, y_test = train_test_split(bag_of_words,df.sentimento, random_state=4978)"
   ]
  },
  {
   "cell_type": "code",
   "execution_count": 24,
   "id": "74692e08",
   "metadata": {},
   "outputs": [
    {
     "name": "stdout",
     "output_type": "stream",
     "text": [
      "0.7982456140350878\n"
     ]
    }
   ],
   "source": [
    "from sklearn.linear_model import LogisticRegression\n",
    "\n",
    "regressao_logistica = LogisticRegression()\n",
    "\n",
    "regressao_logistica.fit(x_treino,y_treino)\n",
    "\n",
    "acuracia = regressao_logistica.score(x_test,y_test)\n",
    "\n",
    "print(acuracia)"
   ]
  },
  {
   "cell_type": "code",
   "execution_count": null,
   "id": "798caa58",
   "metadata": {},
   "outputs": [],
   "source": []
  }
 ],
 "metadata": {
  "kernelspec": {
   "display_name": "base",
   "language": "python",
   "name": "python3"
  },
  "language_info": {
   "codemirror_mode": {
    "name": "ipython",
    "version": 3
   },
   "file_extension": ".py",
   "mimetype": "text/x-python",
   "name": "python",
   "nbconvert_exporter": "python",
   "pygments_lexer": "ipython3",
   "version": "3.12.7"
  }
 },
 "nbformat": 4,
 "nbformat_minor": 5
}
